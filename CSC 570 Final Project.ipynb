{
 "cells": [
  {
   "cell_type": "markdown",
   "metadata": {},
   "source": [
    "### NCAA Basketball Analysis\n",
    "\n",
    "Hypothesis: Any arbitrary team’s win count can be calculated by analysis of that team’s yearly statistics, including strength of schedule, field goal percentage, etc. "
   ]
  },
  {
   "cell_type": "code",
   "execution_count": 23,
   "metadata": {
    "collapsed": false
   },
   "outputs": [
    {
     "name": "stdout",
     "output_type": "stream",
     "text": [
      "Populating the interactive namespace from numpy and matplotlib\n"
     ]
    }
   ],
   "source": [
    "import pandas as pd\n",
    "import numpy as np\n",
    "from sklearn.ensemble import RandomForestRegressor\n",
    "from sklearn.cross_validation import train_test_split\n",
    "from sklearn.metrics import roc_auc_score\n",
    "%pylab inline"
   ]
  },
  {
   "cell_type": "code",
   "execution_count": 2,
   "metadata": {
    "collapsed": false
   },
   "outputs": [],
   "source": [
    "X = pd.read_csv(\"/Users/adriancavallaris/Documents/BasketballTeamData.csv\")"
   ]
  },
  {
   "cell_type": "code",
   "execution_count": 3,
   "metadata": {
    "collapsed": false
   },
   "outputs": [
    {
     "data": {
      "text/html": [
       "<div>\n",
       "<table border=\"1\" class=\"dataframe\">\n",
       "  <thead>\n",
       "    <tr style=\"text-align: right;\">\n",
       "      <th></th>\n",
       "      <th>School</th>\n",
       "      <th>G</th>\n",
       "      <th>W</th>\n",
       "      <th>SRS</th>\n",
       "      <th>SOS</th>\n",
       "      <th>PTS</th>\n",
       "      <th>OPP</th>\n",
       "      <th>FG</th>\n",
       "      <th>FGA</th>\n",
       "      <th>FGP</th>\n",
       "      <th>...</th>\n",
       "      <th>3PA</th>\n",
       "      <th>3PP</th>\n",
       "      <th>FT</th>\n",
       "      <th>FTA</th>\n",
       "      <th>FTP</th>\n",
       "      <th>TRB</th>\n",
       "      <th>AST</th>\n",
       "      <th>STL</th>\n",
       "      <th>BLK</th>\n",
       "      <th>PF</th>\n",
       "    </tr>\n",
       "  </thead>\n",
       "  <tbody>\n",
       "    <tr>\n",
       "      <th>0</th>\n",
       "      <td>Air Force</td>\n",
       "      <td>28</td>\n",
       "      <td>5</td>\n",
       "      <td>-5.62</td>\n",
       "      <td>5.04</td>\n",
       "      <td>1880</td>\n",
       "      <td>2089</td>\n",
       "      <td>690</td>\n",
       "      <td>1684</td>\n",
       "      <td>0.410</td>\n",
       "      <td>...</td>\n",
       "      <td>414</td>\n",
       "      <td>0.314</td>\n",
       "      <td>370</td>\n",
       "      <td>589</td>\n",
       "      <td>0.628</td>\n",
       "      <td>1040</td>\n",
       "      <td>385</td>\n",
       "      <td>154</td>\n",
       "      <td>79</td>\n",
       "      <td>555</td>\n",
       "    </tr>\n",
       "    <tr>\n",
       "      <th>1</th>\n",
       "      <td>Akron</td>\n",
       "      <td>26</td>\n",
       "      <td>3</td>\n",
       "      <td>-11.17</td>\n",
       "      <td>2.51</td>\n",
       "      <td>1631</td>\n",
       "      <td>1949</td>\n",
       "      <td>575</td>\n",
       "      <td>1409</td>\n",
       "      <td>0.408</td>\n",
       "      <td>...</td>\n",
       "      <td>361</td>\n",
       "      <td>0.316</td>\n",
       "      <td>367</td>\n",
       "      <td>528</td>\n",
       "      <td>0.695</td>\n",
       "      <td>782</td>\n",
       "      <td>307</td>\n",
       "      <td>147</td>\n",
       "      <td>60</td>\n",
       "      <td>454</td>\n",
       "    </tr>\n",
       "    <tr>\n",
       "      <th>2</th>\n",
       "      <td>Alabama-Birmingham</td>\n",
       "      <td>30</td>\n",
       "      <td>16</td>\n",
       "      <td>3.68</td>\n",
       "      <td>3.71</td>\n",
       "      <td>2070</td>\n",
       "      <td>2051</td>\n",
       "      <td>737</td>\n",
       "      <td>1803</td>\n",
       "      <td>0.409</td>\n",
       "      <td>...</td>\n",
       "      <td>579</td>\n",
       "      <td>0.323</td>\n",
       "      <td>409</td>\n",
       "      <td>617</td>\n",
       "      <td>0.663</td>\n",
       "      <td>1163</td>\n",
       "      <td>366</td>\n",
       "      <td>209</td>\n",
       "      <td>100</td>\n",
       "      <td>620</td>\n",
       "    </tr>\n",
       "    <tr>\n",
       "      <th>3</th>\n",
       "      <td>Alabama State</td>\n",
       "      <td>27</td>\n",
       "      <td>9</td>\n",
       "      <td>-23.62</td>\n",
       "      <td>-12.82</td>\n",
       "      <td>1995</td>\n",
       "      <td>2226</td>\n",
       "      <td>713</td>\n",
       "      <td>1677</td>\n",
       "      <td>0.425</td>\n",
       "      <td>...</td>\n",
       "      <td>487</td>\n",
       "      <td>0.366</td>\n",
       "      <td>391</td>\n",
       "      <td>607</td>\n",
       "      <td>0.644</td>\n",
       "      <td>834</td>\n",
       "      <td>289</td>\n",
       "      <td>225</td>\n",
       "      <td>51</td>\n",
       "      <td>482</td>\n",
       "    </tr>\n",
       "    <tr>\n",
       "      <th>4</th>\n",
       "      <td>Alabama</td>\n",
       "      <td>32</td>\n",
       "      <td>19</td>\n",
       "      <td>7.01</td>\n",
       "      <td>6.13</td>\n",
       "      <td>2303</td>\n",
       "      <td>2275</td>\n",
       "      <td>843</td>\n",
       "      <td>1974</td>\n",
       "      <td>0.427</td>\n",
       "      <td>...</td>\n",
       "      <td>700</td>\n",
       "      <td>0.364</td>\n",
       "      <td>362</td>\n",
       "      <td>546</td>\n",
       "      <td>0.663</td>\n",
       "      <td>1252</td>\n",
       "      <td>408</td>\n",
       "      <td>197</td>\n",
       "      <td>196</td>\n",
       "      <td>567</td>\n",
       "    </tr>\n",
       "  </tbody>\n",
       "</table>\n",
       "<p>5 rows × 21 columns</p>\n",
       "</div>"
      ],
      "text/plain": [
       "               School   G   W    SRS    SOS   PTS   OPP   FG   FGA    FGP  \\\n",
       "0           Air Force  28   5  -5.62   5.04  1880  2089  690  1684  0.410   \n",
       "1               Akron  26   3 -11.17   2.51  1631  1949  575  1409  0.408   \n",
       "2  Alabama-Birmingham  30  16   3.68   3.71  2070  2051  737  1803  0.409   \n",
       "3       Alabama State  27   9 -23.62 -12.82  1995  2226  713  1677  0.425   \n",
       "4             Alabama  32  19   7.01   6.13  2303  2275  843  1974  0.427   \n",
       "\n",
       "  ...   3PA    3PP   FT  FTA    FTP   TRB  AST  STL  BLK   PF  \n",
       "0 ...   414  0.314  370  589  0.628  1040  385  154   79  555  \n",
       "1 ...   361  0.316  367  528  0.695   782  307  147   60  454  \n",
       "2 ...   579  0.323  409  617  0.663  1163  366  209  100  620  \n",
       "3 ...   487  0.366  391  607  0.644   834  289  225   51  482  \n",
       "4 ...   700  0.364  362  546  0.663  1252  408  197  196  567  \n",
       "\n",
       "[5 rows x 21 columns]"
      ]
     },
     "execution_count": 3,
     "metadata": {},
     "output_type": "execute_result"
    }
   ],
   "source": [
    "X.head()"
   ]
  },
  {
   "cell_type": "code",
   "execution_count": 4,
   "metadata": {
    "collapsed": false
   },
   "outputs": [
    {
     "data": {
      "text/html": [
       "<div>\n",
       "<table border=\"1\" class=\"dataframe\">\n",
       "  <thead>\n",
       "    <tr style=\"text-align: right;\">\n",
       "      <th></th>\n",
       "      <th>G</th>\n",
       "      <th>W</th>\n",
       "      <th>SRS</th>\n",
       "      <th>SOS</th>\n",
       "      <th>PTS</th>\n",
       "      <th>OPP</th>\n",
       "      <th>FG</th>\n",
       "      <th>FGA</th>\n",
       "      <th>FGP</th>\n",
       "      <th>3P</th>\n",
       "      <th>3PA</th>\n",
       "      <th>3PP</th>\n",
       "      <th>FT</th>\n",
       "      <th>FTA</th>\n",
       "      <th>FTP</th>\n",
       "      <th>TRB</th>\n",
       "      <th>AST</th>\n",
       "      <th>STL</th>\n",
       "      <th>BLK</th>\n",
       "      <th>PF</th>\n",
       "    </tr>\n",
       "  </thead>\n",
       "  <tbody>\n",
       "    <tr>\n",
       "      <th>count</th>\n",
       "      <td>6892.000000</td>\n",
       "      <td>6892.000000</td>\n",
       "      <td>6892.000000</td>\n",
       "      <td>6892.000000</td>\n",
       "      <td>6892.000000</td>\n",
       "      <td>6892.000000</td>\n",
       "      <td>6892.000000</td>\n",
       "      <td>6892.000000</td>\n",
       "      <td>6892.000000</td>\n",
       "      <td>6892.000000</td>\n",
       "      <td>6892.000000</td>\n",
       "      <td>6892.000000</td>\n",
       "      <td>6892.000000</td>\n",
       "      <td>6892.000000</td>\n",
       "      <td>6892.000000</td>\n",
       "      <td>6892.000000</td>\n",
       "      <td>6892.000000</td>\n",
       "      <td>6892.000000</td>\n",
       "      <td>6892.000000</td>\n",
       "      <td>5937.000000</td>\n",
       "    </tr>\n",
       "    <tr>\n",
       "      <th>mean</th>\n",
       "      <td>30.917441</td>\n",
       "      <td>15.980847</td>\n",
       "      <td>-0.707589</td>\n",
       "      <td>-0.306657</td>\n",
       "      <td>2161.780325</td>\n",
       "      <td>2133.042658</td>\n",
       "      <td>760.366367</td>\n",
       "      <td>1735.439495</td>\n",
       "      <td>0.437482</td>\n",
       "      <td>195.028149</td>\n",
       "      <td>563.658880</td>\n",
       "      <td>0.345278</td>\n",
       "      <td>446.147707</td>\n",
       "      <td>648.139292</td>\n",
       "      <td>0.687688</td>\n",
       "      <td>1102.247388</td>\n",
       "      <td>416.141178</td>\n",
       "      <td>214.437754</td>\n",
       "      <td>104.161492</td>\n",
       "      <td>581.174330</td>\n",
       "    </tr>\n",
       "    <tr>\n",
       "      <th>std</th>\n",
       "      <td>2.702810</td>\n",
       "      <td>6.375489</td>\n",
       "      <td>10.296557</td>\n",
       "      <td>5.671385</td>\n",
       "      <td>297.460618</td>\n",
       "      <td>202.695240</td>\n",
       "      <td>106.492103</td>\n",
       "      <td>194.308289</td>\n",
       "      <td>0.027116</td>\n",
       "      <td>50.500707</td>\n",
       "      <td>116.303607</td>\n",
       "      <td>0.096846</td>\n",
       "      <td>81.819174</td>\n",
       "      <td>109.336651</td>\n",
       "      <td>0.038735</td>\n",
       "      <td>145.342991</td>\n",
       "      <td>75.471516</td>\n",
       "      <td>46.575798</td>\n",
       "      <td>39.334102</td>\n",
       "      <td>65.719479</td>\n",
       "    </tr>\n",
       "    <tr>\n",
       "      <th>min</th>\n",
       "      <td>17.000000</td>\n",
       "      <td>0.000000</td>\n",
       "      <td>-35.850000</td>\n",
       "      <td>-15.810000</td>\n",
       "      <td>1074.000000</td>\n",
       "      <td>1233.000000</td>\n",
       "      <td>367.000000</td>\n",
       "      <td>843.000000</td>\n",
       "      <td>0.344000</td>\n",
       "      <td>56.000000</td>\n",
       "      <td>188.000000</td>\n",
       "      <td>0.204000</td>\n",
       "      <td>193.000000</td>\n",
       "      <td>298.000000</td>\n",
       "      <td>0.541000</td>\n",
       "      <td>441.000000</td>\n",
       "      <td>186.000000</td>\n",
       "      <td>92.000000</td>\n",
       "      <td>20.000000</td>\n",
       "      <td>189.000000</td>\n",
       "    </tr>\n",
       "    <tr>\n",
       "      <th>25%</th>\n",
       "      <td>29.000000</td>\n",
       "      <td>11.000000</td>\n",
       "      <td>-8.060000</td>\n",
       "      <td>-4.740000</td>\n",
       "      <td>1946.750000</td>\n",
       "      <td>1994.000000</td>\n",
       "      <td>683.000000</td>\n",
       "      <td>1597.000000</td>\n",
       "      <td>0.420000</td>\n",
       "      <td>163.000000</td>\n",
       "      <td>484.000000</td>\n",
       "      <td>0.325000</td>\n",
       "      <td>387.000000</td>\n",
       "      <td>572.000000</td>\n",
       "      <td>0.662000</td>\n",
       "      <td>1001.000000</td>\n",
       "      <td>363.000000</td>\n",
       "      <td>182.000000</td>\n",
       "      <td>76.000000</td>\n",
       "      <td>536.000000</td>\n",
       "    </tr>\n",
       "    <tr>\n",
       "      <th>50%</th>\n",
       "      <td>31.000000</td>\n",
       "      <td>15.000000</td>\n",
       "      <td>-1.370000</td>\n",
       "      <td>-0.950000</td>\n",
       "      <td>2131.000000</td>\n",
       "      <td>2126.000000</td>\n",
       "      <td>749.000000</td>\n",
       "      <td>1719.000000</td>\n",
       "      <td>0.438000</td>\n",
       "      <td>191.000000</td>\n",
       "      <td>555.000000</td>\n",
       "      <td>0.344000</td>\n",
       "      <td>440.000000</td>\n",
       "      <td>641.000000</td>\n",
       "      <td>0.689000</td>\n",
       "      <td>1090.000000</td>\n",
       "      <td>408.000000</td>\n",
       "      <td>209.000000</td>\n",
       "      <td>99.000000</td>\n",
       "      <td>578.000000</td>\n",
       "    </tr>\n",
       "    <tr>\n",
       "      <th>75%</th>\n",
       "      <td>33.000000</td>\n",
       "      <td>20.000000</td>\n",
       "      <td>6.700000</td>\n",
       "      <td>4.510000</td>\n",
       "      <td>2348.250000</td>\n",
       "      <td>2262.000000</td>\n",
       "      <td>826.000000</td>\n",
       "      <td>1855.000000</td>\n",
       "      <td>0.455000</td>\n",
       "      <td>223.000000</td>\n",
       "      <td>635.000000</td>\n",
       "      <td>0.364000</td>\n",
       "      <td>499.000000</td>\n",
       "      <td>718.000000</td>\n",
       "      <td>0.714000</td>\n",
       "      <td>1191.250000</td>\n",
       "      <td>462.000000</td>\n",
       "      <td>242.000000</td>\n",
       "      <td>125.250000</td>\n",
       "      <td>623.000000</td>\n",
       "    </tr>\n",
       "    <tr>\n",
       "      <th>max</th>\n",
       "      <td>41.000000</td>\n",
       "      <td>38.000000</td>\n",
       "      <td>34.800000</td>\n",
       "      <td>12.710000</td>\n",
       "      <td>3581.000000</td>\n",
       "      <td>3240.000000</td>\n",
       "      <td>1259.000000</td>\n",
       "      <td>2696.000000</td>\n",
       "      <td>1.000000</td>\n",
       "      <td>1765.000000</td>\n",
       "      <td>1383.000000</td>\n",
       "      <td>7.986000</td>\n",
       "      <td>800.000000</td>\n",
       "      <td>1146.000000</td>\n",
       "      <td>1.056000</td>\n",
       "      <td>1824.000000</td>\n",
       "      <td>1052.000000</td>\n",
       "      <td>490.000000</td>\n",
       "      <td>526.000000</td>\n",
       "      <td>859.000000</td>\n",
       "    </tr>\n",
       "  </tbody>\n",
       "</table>\n",
       "</div>"
      ],
      "text/plain": [
       "                 G            W          SRS          SOS          PTS  \\\n",
       "count  6892.000000  6892.000000  6892.000000  6892.000000  6892.000000   \n",
       "mean     30.917441    15.980847    -0.707589    -0.306657  2161.780325   \n",
       "std       2.702810     6.375489    10.296557     5.671385   297.460618   \n",
       "min      17.000000     0.000000   -35.850000   -15.810000  1074.000000   \n",
       "25%      29.000000    11.000000    -8.060000    -4.740000  1946.750000   \n",
       "50%      31.000000    15.000000    -1.370000    -0.950000  2131.000000   \n",
       "75%      33.000000    20.000000     6.700000     4.510000  2348.250000   \n",
       "max      41.000000    38.000000    34.800000    12.710000  3581.000000   \n",
       "\n",
       "               OPP           FG          FGA          FGP           3P  \\\n",
       "count  6892.000000  6892.000000  6892.000000  6892.000000  6892.000000   \n",
       "mean   2133.042658   760.366367  1735.439495     0.437482   195.028149   \n",
       "std     202.695240   106.492103   194.308289     0.027116    50.500707   \n",
       "min    1233.000000   367.000000   843.000000     0.344000    56.000000   \n",
       "25%    1994.000000   683.000000  1597.000000     0.420000   163.000000   \n",
       "50%    2126.000000   749.000000  1719.000000     0.438000   191.000000   \n",
       "75%    2262.000000   826.000000  1855.000000     0.455000   223.000000   \n",
       "max    3240.000000  1259.000000  2696.000000     1.000000  1765.000000   \n",
       "\n",
       "               3PA          3PP           FT          FTA          FTP  \\\n",
       "count  6892.000000  6892.000000  6892.000000  6892.000000  6892.000000   \n",
       "mean    563.658880     0.345278   446.147707   648.139292     0.687688   \n",
       "std     116.303607     0.096846    81.819174   109.336651     0.038735   \n",
       "min     188.000000     0.204000   193.000000   298.000000     0.541000   \n",
       "25%     484.000000     0.325000   387.000000   572.000000     0.662000   \n",
       "50%     555.000000     0.344000   440.000000   641.000000     0.689000   \n",
       "75%     635.000000     0.364000   499.000000   718.000000     0.714000   \n",
       "max    1383.000000     7.986000   800.000000  1146.000000     1.056000   \n",
       "\n",
       "               TRB          AST          STL          BLK           PF  \n",
       "count  6892.000000  6892.000000  6892.000000  6892.000000  5937.000000  \n",
       "mean   1102.247388   416.141178   214.437754   104.161492   581.174330  \n",
       "std     145.342991    75.471516    46.575798    39.334102    65.719479  \n",
       "min     441.000000   186.000000    92.000000    20.000000   189.000000  \n",
       "25%    1001.000000   363.000000   182.000000    76.000000   536.000000  \n",
       "50%    1090.000000   408.000000   209.000000    99.000000   578.000000  \n",
       "75%    1191.250000   462.000000   242.000000   125.250000   623.000000  \n",
       "max    1824.000000  1052.000000   490.000000   526.000000   859.000000  "
      ]
     },
     "execution_count": 4,
     "metadata": {},
     "output_type": "execute_result"
    }
   ],
   "source": [
    "X.describe()"
   ]
  },
  {
   "cell_type": "markdown",
   "metadata": {},
   "source": [
    "There are no missing data values, except for about 1/6 of the values in PF."
   ]
  },
  {
   "cell_type": "code",
   "execution_count": 5,
   "metadata": {
    "collapsed": true
   },
   "outputs": [],
   "source": [
    "averagePF = X[\"PF\"].mean()\n",
    "X[\"PF\"] = X[\"PF\"].fillna(averagePF)"
   ]
  },
  {
   "cell_type": "markdown",
   "metadata": {},
   "source": [
    "First, let's get a basic prediction model"
   ]
  },
  {
   "cell_type": "code",
   "execution_count": 6,
   "metadata": {
    "collapsed": true
   },
   "outputs": [],
   "source": [
    "X.drop([\"School\"], axis=1, inplace=True)\n",
    "y = X.pop(\"W\")"
   ]
  },
  {
   "cell_type": "code",
   "execution_count": 7,
   "metadata": {
    "collapsed": false
   },
   "outputs": [],
   "source": [
    "X_train, X_test, y_train, y_test = train_test_split(X, y, test_size=.2)"
   ]
  },
  {
   "cell_type": "code",
   "execution_count": 8,
   "metadata": {
    "collapsed": false
   },
   "outputs": [
    {
     "name": "stdout",
     "output_type": "stream",
     "text": [
      "R^2: 0.90662940075\n"
     ]
    }
   ],
   "source": [
    "model = RandomForestRegressor()\n",
    "model.fit(X_train, y_train)\n",
    "print \"R^2:\", model.score(X_test, y_test)"
   ]
  },
  {
   "cell_type": "markdown",
   "metadata": {},
   "source": [
    "That's a pretty good base score. But the model could use tuning."
   ]
  },
  {
   "cell_type": "code",
   "execution_count": 9,
   "metadata": {
    "collapsed": false
   },
   "outputs": [
    {
     "name": "stdout",
     "output_type": "stream",
     "text": [
      "1 loop, best of 3: 22.4 s per loop\n"
     ]
    }
   ],
   "source": [
    "%%timeit\n",
    "model = RandomForestRegressor(500, n_jobs = 1)\n",
    "model.fit(X_train, y_train)"
   ]
  },
  {
   "cell_type": "code",
   "execution_count": 10,
   "metadata": {
    "collapsed": false
   },
   "outputs": [
    {
     "name": "stdout",
     "output_type": "stream",
     "text": [
      "1 loop, best of 3: 9.08 s per loop\n"
     ]
    }
   ],
   "source": [
    "%%timeit\n",
    "model = RandomForestRegressor(500, n_jobs = -1)\n",
    "model.fit(X_train, y_train)"
   ]
  },
  {
   "cell_type": "markdown",
   "metadata": {},
   "source": [
    "Thus, n_jobs needs to be equal to -1."
   ]
  },
  {
   "cell_type": "code",
   "execution_count": 11,
   "metadata": {
    "collapsed": false
   },
   "outputs": [
    {
     "name": "stdout",
     "output_type": "stream",
     "text": [
      "25 trees\n",
      "R^2: 0.913858750676\n",
      "\n",
      "50 trees\n",
      "R^2: 0.917835755532\n",
      "\n",
      "100 trees\n",
      "R^2: 0.918778245333\n",
      "\n",
      "200 trees\n",
      "R^2: 0.919204284622\n",
      "\n",
      "500 trees\n",
      "R^2: 0.919305073455\n",
      "\n",
      "750 trees\n",
      "R^2: 0.91932998791\n",
      "\n",
      "1000 trees\n",
      "R^2: 0.919590546309\n",
      "\n"
     ]
    },
    {
     "data": {
      "image/png": "[encoded data removed]",
      "text/plain": [
       "<matplotlib.figure.Figure at 0x10413cb10>"
      ]
     },
     "metadata": {},
     "output_type": "display_data"
    }
   ],
   "source": [
    "results = []\n",
    "n_estimator_options = [25, 50, 100, 200, 500, 750, 1000]\n",
    "\n",
    "for trees in n_estimator_options:\n",
    "    model = RandomForestRegressor(trees, n_jobs = -1)\n",
    "    model.fit(X_train, y_train)\n",
    "    print trees, \"trees\"\n",
    "    r2 = model.score(X_test, y_test)\n",
    "    print \"R^2:\", r2\n",
    "    results.append(r2)\n",
    "    print \"\"\n",
    "pd.Series(results, n_estimator_options).plot();"
   ]
  },
  {
   "cell_type": "markdown",
   "metadata": {},
   "source": [
    "The highest score occured with 1000 trees. "
   ]
  },
  {
   "cell_type": "code",
   "execution_count": 12,
   "metadata": {
    "collapsed": false
   },
   "outputs": [
    {
     "name": "stdout",
     "output_type": "stream",
     "text": [
      "auto option\n",
      "R^2: 0.919500090297\n",
      "\n",
      "None option\n",
      "R^2: 0.919240899841\n",
      "\n",
      "sqrt option\n",
      "R^2: 0.900026142444\n",
      "\n",
      "log2 option\n",
      "R^2: 0.900627721617\n",
      "\n",
      "0.5 option\n",
      "R^2: 0.918403048012\n",
      "\n",
      "0.6 option\n",
      "R^2: 0.920144352245\n",
      "\n",
      "0.7 option\n",
      "R^2: 0.921187760537\n",
      "\n",
      "0.8 option\n",
      "R^2: 0.92173901678\n",
      "\n",
      "0.9 option\n",
      "R^2: 0.92070976468\n",
      "\n",
      "2 option\n",
      "R^2: 0.872521450435\n",
      "\n"
     ]
    },
    {
     "data": {
      "image/png": "[encoded data removed]",
      "text/plain": [
       "<matplotlib.figure.Figure at 0x10a160350>"
      ]
     },
     "metadata": {},
     "output_type": "display_data"
    }
   ],
   "source": [
    "results = []\n",
    "max_features_options = [\"auto\", None, \"sqrt\", \"log2\", 0.5, 0.6, 0.7, 0.8, .9, 2]\n",
    "\n",
    "for max_features in max_features_options:\n",
    "    model = RandomForestRegressor(n_estimators = 1000, n_jobs = -1, max_features = max_features)\n",
    "    model.fit(X_train, y_train)\n",
    "    print max_features, \"option\"\n",
    "    r2 = model.score(X_test, y_test)\n",
    "    print \"R^2:\", r2\n",
    "    results.append(r2)\n",
    "    print \"\"\n",
    "pd.Series(results, max_features_options).plot(kind = \"barh\", xlim = (.85,.93));"
   ]
  },
  {
   "cell_type": "markdown",
   "metadata": {},
   "source": [
    "The best result was yielded with 0.8."
   ]
  },
  {
   "cell_type": "code",
   "execution_count": 13,
   "metadata": {
    "collapsed": false
   },
   "outputs": [
    {
     "name": "stdout",
     "output_type": "stream",
     "text": [
      "1 min samples\n",
      "R^2: 0.921846790734\n",
      "\n",
      "2 min samples\n",
      "R^2: 0.921459688578\n",
      "\n",
      "3 min samples\n",
      "R^2: 0.921532015817\n",
      "\n",
      "4 min samples\n",
      "R^2: 0.921063151248\n",
      "\n",
      "5 min samples\n",
      "R^2: 0.920626585018\n",
      "\n",
      "6 min samples\n",
      "R^2: 0.920122538015\n",
      "\n",
      "7 min samples\n",
      "R^2: 0.919652351914\n",
      "\n",
      "8 min samples\n",
      "R^2: 0.919267584832\n",
      "\n",
      "9 min samples\n",
      "R^2: 0.918807032685\n",
      "\n",
      "10 min samples\n",
      "R^2: 0.917931768371\n",
      "\n"
     ]
    },
    {
     "data": {
      "image/png": "[encoded data removed]",
      "text/plain": [
       "<matplotlib.figure.Figure at 0x109020810>"
      ]
     },
     "metadata": {},
     "output_type": "display_data"
    }
   ],
   "source": [
    "results = []\n",
    "min_samples_leaf_options = [1, 2, 3, 4, 5, 6, 7, 8, 9, 10]\n",
    "\n",
    "for min_samples in min_samples_leaf_options:\n",
    "    model = RandomForestRegressor(n_estimators = 1000, n_jobs = -1, max_features = 0.8, \n",
    "                                  min_samples_leaf = min_samples)\n",
    "    model.fit(X_train, y_train)\n",
    "    print min_samples, \"min samples\"\n",
    "    r2 = model.score(X_test, y_test)\n",
    "    print \"R^2:\", r2\n",
    "    results.append(r2)\n",
    "    print \"\"\n",
    "pd.Series(results, min_samples_leaf_options).plot();"
   ]
  },
  {
   "cell_type": "markdown",
   "metadata": {},
   "source": [
    "1 min samples yielded the best result. "
   ]
  },
  {
   "cell_type": "markdown",
   "metadata": {},
   "source": [
    "So, the model has improved quite a bit with some tuning. However, we can use K-fold cross validation to ensure that the model is not overfitted. "
   ]
  },
  {
   "cell_type": "code",
   "execution_count": 14,
   "metadata": {
    "collapsed": true
   },
   "outputs": [],
   "source": [
    "model = RandomForestRegressor(n_estimators = 1000, n_jobs = -1, max_features = 0.8, \n",
    "                                  min_samples_leaf = 1)\n",
    "from sklearn import cross_validation\n",
    "scores = cross_validation.cross_val_score(model, X, y, cv = 10)"
   ]
  },
  {
   "cell_type": "code",
   "execution_count": 15,
   "metadata": {
    "collapsed": false
   },
   "outputs": [
    {
     "data": {
      "text/plain": [
       "array([ 0.9086156 ,  0.91931887,  0.90532219,  0.91009057,  0.90999092,\n",
       "        0.90543703,  0.92138623,  0.91779839,  0.9094402 ,  0.90636643])"
      ]
     },
     "execution_count": 15,
     "metadata": {},
     "output_type": "execute_result"
    }
   ],
   "source": [
    "scores"
   ]
  },
  {
   "cell_type": "code",
   "execution_count": 16,
   "metadata": {
    "collapsed": false
   },
   "outputs": [
    {
     "name": "stdout",
     "output_type": "stream",
     "text": [
      "Score is 0.911377 +/-  0.004024\n",
      "Thus, there is a 95 percent probability that if this experiment were repeated, the average score would be between 0.907352 and 0.915401\n"
     ]
    }
   ],
   "source": [
    "mean = scores.mean()\n",
    "std_dev = scores.std()\n",
    "std_error = scores.std() / math.sqrt(scores.shape[0])\n",
    "confInterval =  2.262 * std_error\n",
    "lowerBound = mean - confInterval\n",
    "upperBound = mean + confInterval\n",
    "\n",
    "print \"Score is %f +/-  %f\" % (mean, confInterval)\n",
    "print 'Thus, there is a 95 percent probability that if this experiment were repeated, the average score would be between %f and %f' % (lowerBound, upperBound)"
   ]
  },
  {
   "cell_type": "code",
   "execution_count": 20,
   "metadata": {
    "collapsed": false
   },
   "outputs": [],
   "source": [
    "model = RandomForestRegressor(n_estimators = 1000, n_jobs = -1, max_features = 0.8, \n",
    "                                  min_samples_leaf = 1)\n",
    "model.fit(X_train, y_train)"
   ]
  },
  {
   "cell_type": "code",
   "execution_count": 24,
   "metadata": {
    "collapsed": true
   },
   "outputs": [],
   "source": [
    "predicted_probs = model.predict(X)"
   ]
  },
  {
   "cell_type": "code",
   "execution_count": 30,
   "metadata": {
    "collapsed": false
   },
   "outputs": [],
   "source": [
    "numpy.savetxt(\"results.csv\", predicted_probs, fmt='%.2f', delimiter = \",\")"
   ]
  },
  {
   "cell_type": "markdown",
   "metadata": {
    "collapsed": true
   },
   "source": [
    "### Findings\n",
    "This project has proven the hypothesis. It is possible to predict the wins of a team within a certain degree of confidence, using statistics of the team's performance. "
   ]
  }
 ],
 "metadata": {
  "kernelspec": {
   "display_name": "Python 2",
   "language": "python",
   "name": "python2"
  },
  "language_info": {
   "codemirror_mode": {
    "name": "ipython",
    "version": 2
   },
   "file_extension": ".py",
   "mimetype": "text/x-python",
   "name": "python",
   "nbconvert_exporter": "python",
   "pygments_lexer": "ipython2",
   "version": "2.7.11"
  }
 },
 "nbformat": 4,
 "nbformat_minor": 0
}
